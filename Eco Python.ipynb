{
 "cells": [
  {
   "cell_type": "markdown",
   "id": "87283971-9e0f-4666-8c70-ba88e43bdff9",
   "metadata": {},
   "source": [
    "# Intro to python"
   ]
  },
  {
   "cell_type": "code",
   "execution_count": 2,
   "id": "6844dc55-e670-41b1-b23f-39d2c2b004e1",
   "metadata": {},
   "outputs": [],
   "source": [
    "import numpy as np #matrix and array processing, Numpy very useful"
   ]
  },
  {
   "cell_type": "code",
   "execution_count": 4,
   "id": "a4c291ed-c257-422a-93bc-06b04d2f2791",
   "metadata": {},
   "outputs": [],
   "source": [
    "a = np.linspace(-np.pi, np.pi, 100)\n",
    "b = np.cos(a)\n",
    "c = np.sin(a)"
   ]
  },
  {
   "cell_type": "code",
   "execution_count": 6,
   "id": "66c42e60-6b29-41f4-a357-45f0b77b55a5",
   "metadata": {},
   "outputs": [
    {
     "data": {
      "text/plain": [
       "-1.8041124150158794e-16"
      ]
     },
     "execution_count": 6,
     "metadata": {},
     "output_type": "execute_result"
    }
   ],
   "source": [
    "b @ c # inner product"
   ]
  },
  {
   "cell_type": "code",
   "execution_count": 8,
   "id": "bb81a9e7-72e1-47e7-bbae-6c56a294b993",
   "metadata": {},
   "outputs": [
    {
     "data": {
      "text/plain": [
       "0.9544997361036417"
      ]
     },
     "execution_count": 8,
     "metadata": {},
     "output_type": "execute_result"
    }
   ],
   "source": [
    "#Scipy for more mathematical functions\n",
    "from scipy.stats import norm\n",
    "from scipy.integrate import quad\n",
    "phi = norm()\n",
    "value, error = quad(phi.pdf, -2, 2)\n",
    "value"
   ]
  },
  {
   "cell_type": "code",
   "execution_count": 9,
   "id": "4317cdb5-878c-4d3b-86b1-01b07d939a3b",
   "metadata": {},
   "outputs": [
    {
     "data": {
      "text/latex": [
       "$\\displaystyle 3 x + y$"
      ],
      "text/plain": [
       "3*x + y"
      ]
     },
     "execution_count": 9,
     "metadata": {},
     "output_type": "execute_result"
    }
   ],
   "source": [
    "#Sympy to manipulate symbolic expressions\n",
    "from sympy import Symbol\n",
    "x, y = Symbol('x'), Symbol('y') # here we can treat 'x' and 'y' as algebraic symbols\n",
    "x + x + x + y"
   ]
  },
  {
   "cell_type": "code",
   "execution_count": 10,
   "id": "176dadd2-7593-4e65-b525-fc32bb27ce03",
   "metadata": {},
   "outputs": [
    {
     "data": {
      "text/latex": [
       "$\\displaystyle x^{2} + 2 x y + y^{2}$"
      ],
      "text/plain": [
       "x**2 + 2*x*y + y**2"
      ]
     },
     "execution_count": 10,
     "metadata": {},
     "output_type": "execute_result"
    }
   ],
   "source": [
    "#we can manipulate expressions\n",
    "expression = (x + y)**2\n",
    "expression.expand()"
   ]
  },
  {
   "cell_type": "code",
   "execution_count": 11,
   "id": "bbd285bd-83c2-4880-8aaf-948eaf969a36",
   "metadata": {},
   "outputs": [
    {
     "data": {
      "text/plain": [
       "[-1/2 - sqrt(7)*I/2, -1/2 + sqrt(7)*I/2]"
      ]
     },
     "execution_count": 11,
     "metadata": {},
     "output_type": "execute_result"
    }
   ],
   "source": [
    "#we can solve polinomials\n",
    "from sympy import solve\n",
    "solve(x**2 + x + 2)"
   ]
  },
  {
   "cell_type": "code",
   "execution_count": 13,
   "id": "d1e8eec8-13bd-4756-bf6c-7c9e7b66c29d",
   "metadata": {},
   "outputs": [
    {
     "name": "stdout",
     "output_type": "stream",
     "text": [
      "               price    weight\n",
      "2010-12-28  0.191519  0.622109\n",
      "2010-12-29  0.437728  0.785359\n",
      "2010-12-30  0.779976  0.272593\n",
      "2010-12-31  0.276464  0.801872\n",
      "2011-01-01  0.958139  0.875933\n"
     ]
    }
   ],
   "source": [
    "# Pandas very useful to work with Data\n",
    "import pandas as pd\n",
    "np.random.seed(1234)\n",
    "data = np.random.rand(5, 2)\n",
    "dates = pd.date_range('28/12/2010', periods=5)\n",
    "\n",
    "df = pd.DataFrame(data, columns=('price', 'weight'), index=dates)\n",
    "print(df)"
   ]
  },
  {
   "cell_type": "code",
   "execution_count": 24,
   "id": "c3265c13-77d4-41a9-9381-335d90895989",
   "metadata": {},
   "outputs": [
    {
     "data": {
      "text/plain": [
       "price     0.528765\n",
       "weight    0.671573\n",
       "dtype: float64"
      ]
     },
     "execution_count": 24,
     "metadata": {},
     "output_type": "execute_result"
    }
   ],
   "source": [
    "df.mean()"
   ]
  },
  {
   "cell_type": "markdown",
   "id": "cff6aafe-2ca4-4a6e-83ae-e52a6ad75744",
   "metadata": {},
   "source": [
    "# Functions"
   ]
  },
  {
   "cell_type": "code",
   "execution_count": 19,
   "id": "e41ea13d-d8d0-4a6d-980c-734c38d5e61a",
   "metadata": {},
   "outputs": [],
   "source": [
    "#f(x)=2x+1------->we denote a function by typing def\n",
    "def f(x):\n",
    "    return 2 * x + 1"
   ]
  },
  {
   "cell_type": "code",
   "execution_count": 21,
   "id": "be69914f-9745-4368-9831-770ee49d939c",
   "metadata": {},
   "outputs": [
    {
     "data": {
      "text/plain": [
       "3"
      ]
     },
     "execution_count": 21,
     "metadata": {},
     "output_type": "execute_result"
    }
   ],
   "source": [
    "f(1)"
   ]
  },
  {
   "cell_type": "code",
   "execution_count": null,
   "id": "f11878ee-e041-439e-a79b-f79f3eb1ab36",
   "metadata": {},
   "outputs": [],
   "source": []
  }
 ],
 "metadata": {
  "kernelspec": {
   "display_name": "Python 3 (ipykernel)",
   "language": "python",
   "name": "python3"
  },
  "language_info": {
   "codemirror_mode": {
    "name": "ipython",
    "version": 3
   },
   "file_extension": ".py",
   "mimetype": "text/x-python",
   "name": "python",
   "nbconvert_exporter": "python",
   "pygments_lexer": "ipython3",
   "version": "3.12.4"
  }
 },
 "nbformat": 4,
 "nbformat_minor": 5
}
